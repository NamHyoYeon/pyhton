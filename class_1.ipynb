{
 "cells": [
  {
   "cell_type": "code",
   "execution_count": 1,
   "metadata": {},
   "outputs": [
    {
     "name": "stdout",
     "output_type": "stream",
     "text": [
      "세 정수의 최대값을 구합니다\n"
     ]
    }
   ],
   "source": [
    "print('세 정수의 최대값을 구합니다')"
   ]
  },
  {
   "cell_type": "code",
   "execution_count": 2,
   "metadata": {},
   "outputs": [
    {
     "name": "stdout",
     "output_type": "stream",
     "text": [
      "정수 a의 값을 입력하세요.:1\n"
     ]
    }
   ],
   "source": [
    "a = int(input('정수 a의 값을 입력하세요.:'))"
   ]
  },
  {
   "cell_type": "code",
   "execution_count": 3,
   "metadata": {},
   "outputs": [
    {
     "name": "stdout",
     "output_type": "stream",
     "text": [
      "정수 b의 값을 입력하세요.:2\n",
      "정수 c의 값을 입력하세요.:3\n"
     ]
    }
   ],
   "source": [
    "b = int(input('정수 b의 값을 입력하세요.:'))\n",
    "c = int(input('정수 c의 값을 입력하세요.:'))"
   ]
  },
  {
   "cell_type": "code",
   "execution_count": 6,
   "metadata": {},
   "outputs": [],
   "source": [
    "maximum = a"
   ]
  },
  {
   "cell_type": "code",
   "execution_count": 7,
   "metadata": {},
   "outputs": [],
   "source": [
    "if b > maximum: maximum = b"
   ]
  },
  {
   "cell_type": "code",
   "execution_count": 8,
   "metadata": {},
   "outputs": [],
   "source": [
    "if c > maximum: maximum = c"
   ]
  },
  {
   "cell_type": "code",
   "execution_count": 9,
   "metadata": {},
   "outputs": [
    {
     "name": "stdout",
     "output_type": "stream",
     "text": [
      "최대값은 3입니다.\n"
     ]
    }
   ],
   "source": [
    "print(f'최대값은 {maximum}입니다.')"
   ]
  },
  {
   "cell_type": "code",
   "execution_count": 10,
   "metadata": {},
   "outputs": [
    {
     "name": "stdout",
     "output_type": "stream",
     "text": [
      "이름을 입력 하세요.:"
     ]
    }
   ],
   "source": [
    "print('이름을 입력 하세요.:',end='')"
   ]
  },
  {
   "cell_type": "code",
   "execution_count": 11,
   "metadata": {},
   "outputs": [
    {
     "name": "stdout",
     "output_type": "stream",
     "text": [
      "\n"
     ]
    }
   ],
   "source": [
    "name = input()"
   ]
  },
  {
   "cell_type": "code",
   "execution_count": 12,
   "metadata": {},
   "outputs": [
    {
     "name": "stdout",
     "output_type": "stream",
     "text": [
      "이름을 입력 하세요.:남효연\n"
     ]
    }
   ],
   "source": [
    "print('이름을 입력 하세요.:', end='')\n",
    "name = input()"
   ]
  },
  {
   "cell_type": "code",
   "execution_count": 13,
   "metadata": {},
   "outputs": [
    {
     "name": "stdout",
     "output_type": "stream",
     "text": [
      "안녕하세요? 남효연 님.\n"
     ]
    }
   ],
   "source": [
    "print(f'안녕하세요? {name} 님.')"
   ]
  },
  {
   "cell_type": "code",
   "execution_count": 14,
   "metadata": {},
   "outputs": [
    {
     "data": {
      "text/plain": [
       "17"
      ]
     },
     "execution_count": 14,
     "metadata": {},
     "output_type": "execute_result"
    }
   ],
   "source": [
    "int(17)"
   ]
  },
  {
   "cell_type": "code",
   "execution_count": 15,
   "metadata": {},
   "outputs": [
    {
     "data": {
      "text/plain": [
       "6"
      ]
     },
     "execution_count": 15,
     "metadata": {},
     "output_type": "execute_result"
    }
   ],
   "source": [
    "int('0b110',2)"
   ]
  },
  {
   "cell_type": "code",
   "execution_count": 16,
   "metadata": {},
   "outputs": [
    {
     "data": {
      "text/plain": [
       "61"
      ]
     },
     "execution_count": 16,
     "metadata": {},
     "output_type": "execute_result"
    }
   ],
   "source": [
    "int('0o75',8)"
   ]
  },
  {
   "cell_type": "code",
   "execution_count": 17,
   "metadata": {},
   "outputs": [
    {
     "data": {
      "text/plain": [
       "13"
      ]
     },
     "execution_count": 17,
     "metadata": {},
     "output_type": "execute_result"
    }
   ],
   "source": [
    "int('13',10)"
   ]
  },
  {
   "cell_type": "code",
   "execution_count": 18,
   "metadata": {},
   "outputs": [
    {
     "data": {
      "text/plain": [
       "63"
      ]
     },
     "execution_count": 18,
     "metadata": {},
     "output_type": "execute_result"
    }
   ],
   "source": [
    "int('0x3F', 16)"
   ]
  },
  {
   "cell_type": "code",
   "execution_count": 19,
   "metadata": {},
   "outputs": [
    {
     "data": {
      "text/plain": [
       "3.14"
      ]
     },
     "execution_count": 19,
     "metadata": {},
     "output_type": "execute_result"
    }
   ],
   "source": [
    "float('3.14')"
   ]
  },
  {
   "cell_type": "code",
   "execution_count": 20,
   "metadata": {},
   "outputs": [],
   "source": [
    "def max3(a,b,c):\n",
    "    maximum = a\n",
    "    if b> maximum: maximum = b\n",
    "    if c> maximum: maxmum = c\n",
    "    return maximum"
   ]
  },
  {
   "cell_type": "code",
   "execution_count": 21,
   "metadata": {},
   "outputs": [
    {
     "name": "stdout",
     "output_type": "stream",
     "text": [
      "max3(3,2,1) = 3\n"
     ]
    }
   ],
   "source": [
    "print(f'max3(3,2,1) = {max(3,2,1)}')"
   ]
  },
  {
   "cell_type": "code",
   "execution_count": 22,
   "metadata": {},
   "outputs": [
    {
     "name": "stdout",
     "output_type": "stream",
     "text": [
      "max3(5,2,6) = 6\n"
     ]
    }
   ],
   "source": [
    "print(f'max3(5,2,6) = {max(5,2,6)}')"
   ]
  },
  {
   "cell_type": "code",
   "execution_count": 23,
   "metadata": {},
   "outputs": [],
   "source": [
    "def med3(a,b,c):\n",
    "    if (b>=a and c<=a) or (b<=a and c>=a):\n",
    "        return a\n",
    "    elif (a>b and c<b) or (a<b and c>b):\n",
    "        return b\n",
    "    return c"
   ]
  },
  {
   "cell_type": "code",
   "execution_count": 24,
   "metadata": {},
   "outputs": [
    {
     "data": {
      "text/plain": [
       "2"
      ]
     },
     "execution_count": 24,
     "metadata": {},
     "output_type": "execute_result"
    }
   ],
   "source": [
    "med3(1,2,3)"
   ]
  },
  {
   "cell_type": "code",
   "execution_count": 25,
   "metadata": {},
   "outputs": [
    {
     "name": "stdout",
     "output_type": "stream",
     "text": [
      "정수를 입력하세요.:1\n"
     ]
    }
   ],
   "source": [
    "n = int(input('정수를 입력하세요.:'))"
   ]
  },
  {
   "cell_type": "code",
   "execution_count": 26,
   "metadata": {},
   "outputs": [
    {
     "name": "stdout",
     "output_type": "stream",
     "text": [
      "이 수는 양수입니다.\n"
     ]
    }
   ],
   "source": [
    "if n > 0:\n",
    "    print('이 수는 양수입니다.')"
   ]
  },
  {
   "cell_type": "code",
   "execution_count": 29,
   "metadata": {},
   "outputs": [
    {
     "name": "stdout",
     "output_type": "stream",
     "text": [
      "1부터 n까지 정수의 합을 구합니다.\n",
      "n값을 입력하세요.:10\n",
      "1부터 10까지 정수의 합은 55입니다.\n"
     ]
    }
   ],
   "source": [
    "print('1부터 n까지 정수의 합을 구합니다.')\n",
    "n = int(input('n값을 입력하세요.:'))\n",
    "\n",
    "sum = 0\n",
    "i = 1\n",
    "\n",
    "while i <= n:\n",
    "    sum+=i\n",
    "    i+=1\n",
    "    \n",
    "print(f'1부터 {n}까지 정수의 합은 {sum}입니다.')"
   ]
  },
  {
   "cell_type": "code",
   "execution_count": 30,
   "metadata": {},
   "outputs": [
    {
     "name": "stdout",
     "output_type": "stream",
     "text": [
      "1부터 n까지 정수의 합을 구합니다.\n",
      "n값을 입력하세요.:10\n",
      "1부터 10까지 정수의 합은 55입니다.\n"
     ]
    }
   ],
   "source": [
    "print('1부터 n까지 정수의 합을 구합니다.')\n",
    "n = int(input('n값을 입력하세요.:'))\n",
    "\n",
    "sum = 0\n",
    "for i in range(1, n+1):\n",
    "    sum +=i\n",
    "    \n",
    "print(f'1부터 {n}까지 정수의 합은 {sum}입니다.')"
   ]
  },
  {
   "cell_type": "code",
   "execution_count": 32,
   "metadata": {},
   "outputs": [
    {
     "name": "stdout",
     "output_type": "stream",
     "text": [
      "a부터 b까지 정수의 합을 구합니다.\n",
      "정수 a를 입력하세요.:1\n",
      "정수 b를 입력하세요.:2\n",
      "1 부터 2까지 정수의 합은 3입니다.\n"
     ]
    }
   ],
   "source": [
    "print('a부터 b까지 정수의 합을 구합니다.')\n",
    "a = int(input('정수 a를 입력하세요.:'))\n",
    "b = int(input('정수 b를 입력하세요.:'))\n",
    "\n",
    "if a>b :\n",
    "    a,b = b,a #a와 b를 오름차순으로 정렬\n",
    "    \n",
    "sum = 0\n",
    "for i in range(a,b+1):\n",
    "    sum += i\n",
    "    \n",
    "print(f'{a} 부터 {b}까지 정수의 합은 {sum}입니다.')"
   ]
  },
  {
   "cell_type": "code",
   "execution_count": 34,
   "metadata": {},
   "outputs": [
    {
     "name": "stdout",
     "output_type": "stream",
     "text": [
      "a부터 b까지 정수의 합을 구합니다.\n",
      "정수 a를 입력하세요.:1\n",
      "정수 b를 입력하세요.:5\n",
      "1 +2 +3 +4 +5 =15\n"
     ]
    }
   ],
   "source": [
    "print('a부터 b까지 정수의 합을 구합니다.')\n",
    "a = int(input('정수 a를 입력하세요.:'))\n",
    "b = int(input('정수 b를 입력하세요.:'))\n",
    "\n",
    "if a>b :\n",
    "    a,b = b,a #a와 b를 오름차순으로 정렬\n",
    "    \n",
    "sum = 0\n",
    "for i in range(a,b+1):\n",
    "    if i < b:\n",
    "        print(f'{i} +',end='')\n",
    "    else :\n",
    "        print(f'{i} =',end='')\n",
    "    sum +=i\n",
    "    \n",
    "print(sum)"
   ]
  },
  {
   "cell_type": "code",
   "execution_count": 10,
   "metadata": {},
   "outputs": [
    {
     "name": "stdout",
     "output_type": "stream",
     "text": [
      "*를 출력합니다.\n",
      "몇 개를 출력할까요?:15\n",
      "몇 개마다 줄바꿈할까요?:5\n",
      "*****\n",
      "*****\n",
      "*****\n",
      "끝\n"
     ]
    }
   ],
   "source": [
    "print('*를 출력합니다.')\n",
    "n = int(input('몇 개를 출력할까요?:'))\n",
    "w = int(input('몇 개마다 줄바꿈할까요?:'))\n",
    "\n",
    "for i in range(n):\n",
    "    print('*', end='')\n",
    "    if i % w == w-1:\n",
    "        print()\n",
    "if n%w:\n",
    "    print(f'{n%w}')\n",
    "    print()\n",
    "print('끝')"
   ]
  },
  {
   "cell_type": "code",
   "execution_count": 16,
   "metadata": {},
   "outputs": [
    {
     "name": "stdout",
     "output_type": "stream",
     "text": [
      "몇 개를 출력할까요?:14\n",
      "몇 개마다 줄바꿈 할까요?:5\n",
      "*****\n",
      "*****\n",
      "****\n"
     ]
    }
   ],
   "source": [
    "n = int(input('몇 개를 출력할까요?:'))\n",
    "w = int(input('몇 개마다 줄바꿈 할까요?:'))\n",
    "\n",
    "for _ in range(n//w):\n",
    "    print('*' * w)\n",
    "    \n",
    "rest = n%w\n",
    "\n",
    "if rest :\n",
    "    print('*' * rest)"
   ]
  },
  {
   "cell_type": "code",
   "execution_count": 18,
   "metadata": {},
   "outputs": [
    {
     "name": "stdout",
     "output_type": "stream",
     "text": [
      "1부터 n까지 정수의 합을 구합니다.\n",
      "n값을 입력하세요:-1\n",
      "n값을 입력하세요:-2\n",
      "n값을 입력하세요:3\n"
     ]
    }
   ],
   "source": [
    "print('1부터 n까지 정수의 합을 구합니다.')\n",
    "\n",
    "while True:\n",
    "    n = int(input('n값을 입력하세요:'))\n",
    "    if n > 0:\n",
    "        break"
   ]
  },
  {
   "cell_type": "code",
   "execution_count": 2,
   "metadata": {},
   "outputs": [
    {
     "name": "stdout",
     "output_type": "stream",
     "text": [
      "직사각형이 넓이를 입력하세요.:33\n",
      "1*33\n",
      "3*11\n"
     ]
    }
   ],
   "source": [
    "area = int(input('직사각형이 넓이를 입력하세요.:'))\n",
    "\n",
    "for i in range(1, area+1):\n",
    "    if i*i > area: break\n",
    "    if area % i : continue\n",
    "    print(f'{i}*{area // i}')"
   ]
  },
  {
   "cell_type": "code",
   "execution_count": 4,
   "metadata": {},
   "outputs": [
    {
     "name": "stdout",
     "output_type": "stream",
     "text": [
      "난수의 개수를 입력하세요: 10\n",
      "48 24 35 39 75 81 52 16 39 27 \n",
      "난수 생성을 종료합니다.\n"
     ]
    }
   ],
   "source": [
    "import random\n",
    "\n",
    "n = int(input('난수의 개수를 입력하세요: '))\n",
    "\n",
    "for _ in range(n):\n",
    "    r = random.randint(10,99)\n",
    "    print(r, end=' ')\n",
    "    if r ==13:\n",
    "        print('\\n프로그램을 중단합니다.')\n",
    "        break\n",
    "else:\n",
    "    print('\\n난수 생성을 종료합니다.')"
   ]
  },
  {
   "cell_type": "code",
   "execution_count": 5,
   "metadata": {},
   "outputs": [
    {
     "name": "stdout",
     "output_type": "stream",
     "text": [
      "1 2 3 4 5 6 7 9 10 11 12 \n"
     ]
    }
   ],
   "source": [
    "for i in range(1,13):\n",
    "    if i == 8:\n",
    "        continue\n",
    "    print(i, end=' ')\n",
    "print()"
   ]
  },
  {
   "cell_type": "code",
   "execution_count": 6,
   "metadata": {},
   "outputs": [
    {
     "name": "stdout",
     "output_type": "stream",
     "text": [
      "1 2 3 4 5 6 7 9 10 11 12 \n"
     ]
    }
   ],
   "source": [
    "for i in list(range(1,8)) + list(range(9,13)):\n",
    "    print(i, end= ' ')\n",
    "print()"
   ]
  },
  {
   "cell_type": "code",
   "execution_count": 9,
   "metadata": {},
   "outputs": [
    {
     "name": "stdout",
     "output_type": "stream",
     "text": [
      "2자리 양수를 입력하세요.\n",
      "값을 입력하세요.:100\n",
      "값을 입력하세요.:50\n",
      "입력받은 양수는 50 입니다.\n"
     ]
    }
   ],
   "source": [
    "# 2자리 양수 (10-99) 입력받기\n",
    "print('2자리 양수를 입력하세요.')\n",
    "\n",
    "while True:\n",
    "    no = int(input('값을 입력하세요.:'))\n",
    "    #if no >= 10 and no <=99:\n",
    "    if not(no <10 or no >99):\n",
    "        break\n",
    "        \n",
    "print(f'입력받은 양수는 {no} 입니다.')"
   ]
  },
  {
   "cell_type": "code",
   "execution_count": 12,
   "metadata": {},
   "outputs": [
    {
     "name": "stdout",
     "output_type": "stream",
     "text": [
      "---------------------------\n",
      "  1  2  3  4  5  6  7  8  9\n",
      "  2  4  6  8 10 12 14 16 18\n",
      "  3  6  9 12 15 18 21 24 27\n",
      "  4  8 12 16 20 24 28 32 36\n",
      "  5 10 15 20 25 30 35 40 45\n",
      "  6 12 18 24 30 36 42 48 54\n",
      "  7 14 21 28 35 42 49 56 63\n",
      "  8 16 24 32 40 48 56 64 72\n",
      "  9 18 27 36 45 54 63 72 81\n",
      "---------------------------\n"
     ]
    }
   ],
   "source": [
    "# 구구단 곱셈표 출력하기\n",
    "\n",
    "print('-' * 27)\n",
    "for i in range(1,10):\n",
    "    for j in range(1,10):\n",
    "        print(f'{i*j:3}', end='')\n",
    "    print()\n",
    "print('-' * 27)"
   ]
  },
  {
   "cell_type": "code",
   "execution_count": 13,
   "metadata": {},
   "outputs": [
    {
     "name": "stdout",
     "output_type": "stream",
     "text": [
      "왼쪽 아래가 직각인 이등변 삼각형을 출력합니다.\n",
      "짧은 변의 길이를 입력하세요.: 10\n",
      "*\n",
      "**\n",
      "***\n",
      "****\n",
      "*****\n",
      "******\n",
      "*******\n",
      "********\n",
      "*********\n",
      "**********\n"
     ]
    }
   ],
   "source": [
    "# 왼쪽 아래가 직각인 이등변 삼각형으로 * 출력하기\n",
    "\n",
    "print('왼쪽 아래가 직각인 이등변 삼각형을 출력합니다.')\n",
    "n = int(input('짧은 변의 길이를 입력하세요.: '))\n",
    "\n",
    "for i in range(n):\n",
    "    for j in range(i+1):\n",
    "        print('*', end='')\n",
    "    print() # 행변경"
   ]
  },
  {
   "cell_type": "code",
   "execution_count": 25,
   "metadata": {},
   "outputs": [
    {
     "name": "stdout",
     "output_type": "stream",
     "text": [
      "오른쪽 아래가 직각인 이등변 삼각형을 출력합니다.\n",
      "짧은 변의 길이를 입력하세요.:10\n",
      "         *\n",
      "        **\n",
      "       ***\n",
      "      ****\n",
      "     *****\n",
      "    ******\n",
      "   *******\n",
      "  ********\n",
      " *********\n",
      "**********\n"
     ]
    }
   ],
   "source": [
    "# 오른쪽 아래가 직각인 이등변 삼각형으로 * 출력하기\n",
    "\n",
    "print('오른쪽 아래가 직각인 이등변 삼각형을 출력합니다.')\n",
    "n = int(input('짧은 변의 길이를 입력하세요.:'))\n",
    "\n",
    "for i in range(n):\n",
    "    for _ in range(n-i-1):\n",
    "        print(' ', end='')\n",
    "    for _ in range(i+1):\n",
    "        print('*', end='')\n",
    "    print()"
   ]
  },
  {
   "cell_type": "code",
   "execution_count": 16,
   "metadata": {},
   "outputs": [
    {
     "name": "stdout",
     "output_type": "stream",
     "text": [
      "10\n",
      "9\n",
      "8\n",
      "7\n",
      "6\n",
      "5\n",
      "4\n",
      "3\n",
      "2\n"
     ]
    }
   ],
   "source": [
    "for i in range(10,1,-1):\n",
    "    print(i)"
   ]
  },
  {
   "cell_type": "code",
   "execution_count": 26,
   "metadata": {},
   "outputs": [],
   "source": [
    "n = 17"
   ]
  },
  {
   "cell_type": "code",
   "execution_count": 27,
   "metadata": {},
   "outputs": [
    {
     "data": {
      "text/plain": [
       "4336806752"
      ]
     },
     "execution_count": 27,
     "metadata": {},
     "output_type": "execute_result"
    }
   ],
   "source": [
    "id(17)"
   ]
  },
  {
   "cell_type": "code",
   "execution_count": 28,
   "metadata": {},
   "outputs": [
    {
     "data": {
      "text/plain": [
       "4336806752"
      ]
     },
     "execution_count": 28,
     "metadata": {},
     "output_type": "execute_result"
    }
   ],
   "source": [
    "id(n)"
   ]
  },
  {
   "cell_type": "code",
   "execution_count": 29,
   "metadata": {},
   "outputs": [],
   "source": [
    "n = 18"
   ]
  },
  {
   "cell_type": "code",
   "execution_count": 30,
   "metadata": {},
   "outputs": [
    {
     "data": {
      "text/plain": [
       "4336806784"
      ]
     },
     "execution_count": 30,
     "metadata": {},
     "output_type": "execute_result"
    }
   ],
   "source": [
    "id(n)"
   ]
  },
  {
   "cell_type": "code",
   "execution_count": 33,
   "metadata": {},
   "outputs": [
    {
     "name": "stdout",
     "output_type": "stream",
     "text": [
      "id(1) = 4336806240\n",
      "id(n) = 4336806240\n",
      "id(x) = 4336806240\n"
     ]
    }
   ],
   "source": [
    "# 함수 내부, 외부에서 정의한 변수와 객체으 식별 번호를 출력하기\n",
    "n =1 # 전역 변수(함수 내부, 외부에서 사용)\n",
    "def put_id():\n",
    "    x = 1 # 지역변수(함수 내부에서만 사용)\n",
    "    print(f'id(x) = {id(x)}')\n",
    "    \n",
    "print(f'id(1) = {id(1)}')\n",
    "print(f'id(n) = {id(n)}')\n",
    "put_id()"
   ]
  },
  {
   "cell_type": "code",
   "execution_count": 34,
   "metadata": {},
   "outputs": [
    {
     "name": "stdout",
     "output_type": "stream",
     "text": [
      "i =   1 id(i) = 4336806240\n",
      "i =   2 id(i) = 4336806272\n",
      "i =   3 id(i) = 4336806304\n",
      "i =   4 id(i) = 4336806336\n",
      "i =   5 id(i) = 4336806368\n",
      "i =   6 id(i) = 4336806400\n",
      "i =   7 id(i) = 4336806432\n",
      "i =   8 id(i) = 4336806464\n",
      "i =   9 id(i) = 4336806496\n",
      "i =  10 id(i) = 4336806528\n",
      "i =  11 id(i) = 4336806560\n",
      "i =  12 id(i) = 4336806592\n",
      "i =  13 id(i) = 4336806624\n",
      "i =  14 id(i) = 4336806656\n",
      "i =  15 id(i) = 4336806688\n",
      "i =  16 id(i) = 4336806720\n",
      "i =  17 id(i) = 4336806752\n",
      "i =  18 id(i) = 4336806784\n",
      "i =  19 id(i) = 4336806816\n",
      "i =  20 id(i) = 4336806848\n",
      "i =  21 id(i) = 4336806880\n",
      "i =  22 id(i) = 4336806912\n",
      "i =  23 id(i) = 4336806944\n",
      "i =  24 id(i) = 4336806976\n",
      "i =  25 id(i) = 4336807008\n",
      "i =  26 id(i) = 4336807040\n",
      "i =  27 id(i) = 4336807072\n",
      "i =  28 id(i) = 4336807104\n",
      "i =  29 id(i) = 4336807136\n",
      "i =  30 id(i) = 4336807168\n",
      "i =  31 id(i) = 4336807200\n",
      "i =  32 id(i) = 4336807232\n",
      "i =  33 id(i) = 4336807264\n",
      "i =  34 id(i) = 4336807296\n",
      "i =  35 id(i) = 4336807328\n",
      "i =  36 id(i) = 4336807360\n",
      "i =  37 id(i) = 4336807392\n",
      "i =  38 id(i) = 4336807424\n",
      "i =  39 id(i) = 4336807456\n",
      "i =  40 id(i) = 4336807488\n",
      "i =  41 id(i) = 4336807520\n",
      "i =  42 id(i) = 4336807552\n",
      "i =  43 id(i) = 4336807584\n",
      "i =  44 id(i) = 4336807616\n",
      "i =  45 id(i) = 4336807648\n",
      "i =  46 id(i) = 4336807680\n",
      "i =  47 id(i) = 4336807712\n",
      "i =  48 id(i) = 4336807744\n",
      "i =  49 id(i) = 4336807776\n",
      "i =  50 id(i) = 4336807808\n",
      "i =  51 id(i) = 4336807840\n",
      "i =  52 id(i) = 4336807872\n",
      "i =  53 id(i) = 4336807904\n",
      "i =  54 id(i) = 4336807936\n",
      "i =  55 id(i) = 4336807968\n",
      "i =  56 id(i) = 4336808000\n",
      "i =  57 id(i) = 4336808032\n",
      "i =  58 id(i) = 4336808064\n",
      "i =  59 id(i) = 4336808096\n",
      "i =  60 id(i) = 4336808128\n",
      "i =  61 id(i) = 4336808160\n",
      "i =  62 id(i) = 4336808192\n",
      "i =  63 id(i) = 4336808224\n",
      "i =  64 id(i) = 4336808256\n",
      "i =  65 id(i) = 4336808288\n",
      "i =  66 id(i) = 4336808320\n",
      "i =  67 id(i) = 4336808352\n",
      "i =  68 id(i) = 4336808384\n",
      "i =  69 id(i) = 4336808416\n",
      "i =  70 id(i) = 4336808448\n",
      "i =  71 id(i) = 4336808480\n",
      "i =  72 id(i) = 4336808512\n",
      "i =  73 id(i) = 4336808544\n",
      "i =  74 id(i) = 4336808576\n",
      "i =  75 id(i) = 4336808608\n",
      "i =  76 id(i) = 4336808640\n",
      "i =  77 id(i) = 4336808672\n",
      "i =  78 id(i) = 4336808704\n",
      "i =  79 id(i) = 4336808736\n",
      "i =  80 id(i) = 4336808768\n",
      "i =  81 id(i) = 4336808800\n",
      "i =  82 id(i) = 4336808832\n",
      "i =  83 id(i) = 4336808864\n",
      "i =  84 id(i) = 4336808896\n",
      "i =  85 id(i) = 4336808928\n",
      "i =  86 id(i) = 4336808960\n",
      "i =  87 id(i) = 4336808992\n",
      "i =  88 id(i) = 4336809024\n",
      "i =  89 id(i) = 4336809056\n",
      "i =  90 id(i) = 4336809088\n",
      "i =  91 id(i) = 4336809120\n",
      "i =  92 id(i) = 4336809152\n",
      "i =  93 id(i) = 4336809184\n",
      "i =  94 id(i) = 4336809216\n",
      "i =  95 id(i) = 4336809248\n",
      "i =  96 id(i) = 4336809280\n",
      "i =  97 id(i) = 4336809312\n",
      "i =  98 id(i) = 4336809344\n",
      "i =  99 id(i) = 4336809376\n",
      "i = 100 id(i) = 4336809408\n"
     ]
    }
   ],
   "source": [
    "# 1부터 100까지 반복하여 출력하기\n",
    "for i in range(1,101):\n",
    "    print(f'i = {i:3} id(i) = {id(i)}')"
   ]
  },
  {
   "cell_type": "code",
   "execution_count": 1,
   "metadata": {},
   "outputs": [
    {
     "name": "stdout",
     "output_type": "stream",
     "text": [
      "hello\n"
     ]
    }
   ],
   "source": [
    "print(\"hello\")"
   ]
  },
  {
   "cell_type": "code",
   "execution_count": null,
   "metadata": {},
   "outputs": [],
   "source": []
  }
 ],
 "metadata": {
  "kernelspec": {
   "display_name": "Python 3",
   "language": "python",
   "name": "python3"
  },
  "language_info": {
   "codemirror_mode": {
    "name": "ipython",
    "version": 3
   },
   "file_extension": ".py",
   "mimetype": "text/x-python",
   "name": "python",
   "nbconvert_exporter": "python",
   "pygments_lexer": "ipython3",
   "version": "3.7.10"
  }
 },
 "nbformat": 4,
 "nbformat_minor": 4
}
